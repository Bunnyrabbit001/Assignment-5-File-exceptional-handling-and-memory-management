{
  "nbformat": 4,
  "nbformat_minor": 0,
  "metadata": {
    "colab": {
      "provenance": []
    },
    "kernelspec": {
      "name": "python3",
      "display_name": "Python 3"
    },
    "language_info": {
      "name": "python"
    }
  },
  "cells": [
    {
      "cell_type": "markdown",
      "source": [
        " ### **Assignment - 5(File & exceptional handling and memory management)**\n",
        "### **Theory Questions**"
      ],
      "metadata": {
        "id": "Oc6_jtJw4pMn"
      }
    },
    {
      "cell_type": "markdown",
      "source": [
        "**Q1.What is the difference between interpreted and compiled languages?**\n",
        "\n",
        "The key difference between **interpreted** and **compiled** languages lies in how the code is executed:\n",
        "\n",
        "**Interpreted Languages**  \n",
        "- Code is executed **line by line** by an interpreter.\n",
        "- No separate compilation step; execution starts directly.\n",
        "- Slower than compiled languages due to real-time translation.\n",
        "- More flexible, allowing dynamic typing and interactive execution.\n",
        "\n",
        "**Examples**: Python, JavaScript, PHP, Ruby  \n",
        "\n",
        "**Compiled Languages**  \n",
        "- Code is first converted into **machine code** by a compiler before execution.\n",
        "- Execution is faster since the program is already translated.\n",
        "- Requires a compilation step before running.\n",
        "- More efficient but less flexible for quick changes.\n",
        "\n",
        "**Examples**: C, C++, Rust, Go  \n",
        "\n",
        "**Hybrid Approach**  \n",
        "Some languages, like **Java and C#**, use a combination:\n",
        "- They are compiled into an intermediate bytecode.\n",
        "- Then, a virtual machine (JVM for Java, CLR for C#) interprets or compiles it just-in-time (JIT).\n"
      ],
      "metadata": {
        "id": "KuX6t3Ib4zeE"
      }
    },
    {
      "cell_type": "markdown",
      "source": [
        "**Q2.What is exception handling in Python?**\n",
        "  \n",
        "Exception handling in Python allows programs to manage and respond to errors **gracefully** instead of crashing. It is done using **try-except-finally-else** blocks.\n",
        "\n",
        "---\n",
        "\n",
        "**Basic Syntax**  \n",
        "```python\n",
        "try:\n",
        "    # Code that may raise an exception\n",
        "    x = 10 / 0  \n",
        "except ZeroDivisionError:\n",
        "    # Handles specific exception\n",
        "    print(\"Cannot divide by zero!\")\n",
        "```\n",
        "\n",
        "---\n",
        "\n",
        "**Key Components of Exception Handling**\n",
        "1. **try** → The block where code is executed. If an error occurs, execution stops, and the exception is raised.\n",
        "2. **except** → Handles the exception if it occurs.\n",
        "3. **finally** → Executes code regardless of whether an exception occurs or not.\n",
        "4. **else** → Executes code only if no exceptions occur.\n",
        "\n",
        "---\n",
        "\n",
        "**Example: Handling Multiple Exceptions**\n",
        "```python\n",
        "try:\n",
        "    num = int(input(\"Enter a number: \"))\n",
        "    result = 10 / num\n",
        "except ZeroDivisionError:\n",
        "    print(\"Cannot divide by zero!\")\n",
        "except ValueError:\n",
        "    print(\"Invalid input! Please enter a number.\")\n",
        "else:\n",
        "    print(\"Result:\", result)\n",
        "finally:\n",
        "    print(\"Execution completed.\")\n",
        "```\n"
      ],
      "metadata": {
        "id": "h71tKHEs5L4j"
      }
    },
    {
      "cell_type": "markdown",
      "source": [
        "**Q3. What is the purpose of the finally block in exception handling?**\n",
        "  \n",
        "The `finally` block in Python **always executes**, regardless of whether an exception occurs or not. It is commonly used for **cleanup operations**, such as closing files, releasing resources, or resetting states.\n",
        "\n",
        "---\n",
        "\n",
        "**Key Features of the `finally` Block**\n",
        "1. **Executes Always** – Runs whether an exception occurs or not.\n",
        "2. **Used for Cleanup** – Ensures that necessary cleanup (e.g., closing a file or database connection) is performed.\n",
        "3. **Prevents Resource Leaks** – Helps in managing resources properly.\n",
        "\n",
        "---\n",
        "\n",
        "**Example 1: Ensuring File Closure**\n",
        "```python\n",
        "try:\n",
        "    file = open(\"example.txt\", \"r\")\n",
        "    content = file.read()\n",
        "except FileNotFoundError:\n",
        "    print(\"File not found!\")\n",
        "finally:\n",
        "    file.close()  # Ensures file is closed\n",
        "    print(\"File closed.\")\n",
        "```\n",
        "\n",
        "Even if an exception occurs, `finally` ensures that the file is closed.\n",
        "\n",
        "---\n",
        "\n",
        "**Example 2: Cleaning Up Resources**\n",
        "```python\n",
        "try:\n",
        "    print(\"Executing try block\")\n",
        "    result = 10 / 0  # This will raise ZeroDivisionError\n",
        "except ZeroDivisionError:\n",
        "    print(\"Handled ZeroDivisionError\")\n",
        "finally:\n",
        "    print(\"This will always execute\")\n",
        "```\n",
        "**Output:**\n",
        "```\n",
        "Executing try block\n",
        "Handled ZeroDivisionError\n",
        "This will always execute\n",
        "```\n",
        "\n"
      ],
      "metadata": {
        "id": "3b1NsL5K5MwB"
      }
    },
    {
      "cell_type": "markdown",
      "source": [
        "**Q4.What is logging in Python?**\n",
        "\n",
        "**Logging in Python**  \n",
        "Logging in Python is used to **record events, errors, and debugging information** during program execution. It helps in **tracking issues, debugging, and monitoring applications** without using `print()` statements.\n",
        "\n",
        "---\n",
        "**Basic Logging Example**  \n",
        "```python\n",
        "import logging\n",
        "\n",
        "# Configure logging\n",
        "logging.basicConfig(level=logging.INFO)\n",
        "\n",
        "logging.info(\"This is an info message.\")\n",
        "logging.warning(\"This is a warning.\")\n",
        "logging.error(\"This is an error.\")\n",
        "```\n",
        "**Output:**\n",
        "```\n",
        "INFO:root:This is an info message.\n",
        "WARNING:root:This is a warning.\n",
        "ERROR:root:This is an error.\n",
        "```\n",
        "\n",
        "---\n",
        "\n",
        "**Logging to a File**\n",
        "```python\n",
        "logging.basicConfig(filename=\"app.log\", level=logging.ERROR,\n",
        "                    format=\"%(asctime)s - %(levelname)s - %(message)s\")\n",
        "\n",
        "try:\n",
        "    result = 10 / 0\n",
        "except ZeroDivisionError as e:\n",
        "    logging.error(\"Error occurred: %s\", e)\n",
        "```\n",
        "This will write the error log into `app.log`.\n",
        "\n"
      ],
      "metadata": {
        "id": "4Xext0t35Msn"
      }
    },
    {
      "cell_type": "markdown",
      "source": [
        "**Q5.What is the significance of the __del__ method in Python?**\n",
        "\n",
        "**Significance of the `__del__` Method in Python**  \n",
        "The `__del__` method is a **destructor** in Python. It is called when an object is **about to be destroyed** (garbage collected). Its primary purpose is to **release resources** such as closing database connections, releasing file handles, or cleaning up memory.\n",
        "\n",
        "---\n",
        "\n",
        "**Key Features of `__del__`**\n",
        "1. **Automatically Called** – Invoked when an object is no longer referenced.\n",
        "2. **Used for Cleanup** – Helps release resources before an object is deleted.\n",
        "3. **Not Always Predictable** – The timing of execution depends on Python's garbage collector.\n",
        "\n",
        "---\n",
        "\n",
        "**Basic Example**\n",
        "```python\n",
        "class Demo:\n",
        "    def __init__(self, name):\n",
        "        self.name = name\n",
        "        print(f\"Object {self.name} created.\")\n",
        "\n",
        "    def __del__(self):\n",
        "        print(f\"Object {self.name} destroyed.\")\n",
        "\n",
        "# Creating an object\n",
        "obj = Demo(\"A\")\n",
        "del obj  # Explicitly deleting the object\n",
        "\n",
        "# Output:\n",
        "# Object A created.\n",
        "# Object A destroyed.\n",
        "```\n",
        "Here, `__del__` is called when `obj` is deleted.\n",
        "\n",
        "---\n",
        "\n",
        "**Example: Releasing Resources**\n",
        "```python\n",
        "import sqlite3\n",
        "\n",
        "class Database:\n",
        "    def __init__(self, db_name):\n",
        "        self.connection = sqlite3.connect(db_name)\n",
        "        print(\"Database connection established.\")\n",
        "\n",
        "    def __del__(self):\n",
        "        self.connection.close()\n",
        "        print(\"Database connection closed.\")\n",
        "\n",
        "db = Database(\"test.db\")\n",
        "del db  # Ensures database connection is closed when object is deleted\n",
        "```\n",
        "\n",
        "---\n",
        "\n",
        "**Important Considerations**\n",
        "- **Unpredictable Timing**: In CPython, `__del__` is called when the reference count reaches zero, but in other implementations (like PyPy), it may behave differently.\n",
        "- **Circular References**: If objects reference each other, they may not be garbage collected immediately.\n",
        "- **Use `try-finally` or `with` Statements Instead**: For better resource management, prefer explicit cleanup techniques like `finally` blocks or `with` statements.\n",
        "\n",
        "Would you like a more complex example with circular references?\n"
      ],
      "metadata": {
        "id": "JF1EM2Z_5MqA"
      }
    },
    {
      "cell_type": "markdown",
      "source": [
        "**Q6.What is the difference between import and from ... import in Python?**\n",
        "\n",
        "\n",
        "Both `import` and `from ... import` are used to include external modules in a Python script, but they work differently.\n",
        "\n",
        "---\n",
        "\n",
        "**1. `import module_name`**\n",
        "- Imports the entire module.\n",
        "- Requires prefixing functions or variables with the module name.\n",
        "\n",
        "**Example:**\n",
        "```python\n",
        "import math\n",
        "print(math.sqrt(25))  # Accessing sqrt with module prefix\n",
        "```\n",
        "**Pros:**\n",
        "- Avoids naming conflicts.\n",
        "- Clearly indicates the source module.\n",
        "\n",
        "**Cons:**\n",
        "- Requires using the module name as a prefix (`math.sqrt()` instead of just `sqrt()`).\n",
        "\n",
        "---\n",
        "\n",
        "**2. `from module_name import specific_name`**\n",
        "- Imports only specific functions, classes, or variables.\n",
        "- No need to prefix with the module name.\n",
        "\n",
        "**Example:**\n",
        "```python\n",
        "from math import sqrt\n",
        "print(sqrt(25))  # No need for math.sqrt()\n",
        "```\n",
        "**Pros:**\n",
        "- Makes code cleaner by removing the module prefix.\n",
        "- Reduces memory usage if only a few functions are needed.\n",
        "\n",
        "**Cons:**\n",
        "- Can lead to naming conflicts if the imported name matches a variable in the script.\n",
        "- Harder to identify the source of imported functions.\n",
        "\n",
        "---\n",
        "\n",
        "**3. `from module_name import *` (Not Recommended)**\n",
        "- Imports **everything** from a module.\n",
        "- Can cause naming conflicts.\n",
        "\n",
        "**Example:**\n",
        "```python\n",
        "from math import *\n",
        "print(sqrt(25))  # Works, but not recommended\n",
        "```\n",
        "**Why Avoid It?**\n",
        "- May overwrite existing variables/functions.\n",
        "- Makes it unclear where functions come from.\n",
        "\n",
        "---\n"
      ],
      "metadata": {
        "id": "gJ676v9s5MnQ"
      }
    },
    {
      "cell_type": "markdown",
      "source": [
        "**Q7.How can you handle multiple exceptions in Python?**"
      ],
      "metadata": {
        "id": "nEQkuO7J5Mkg"
      }
    },
    {
      "cell_type": "markdown",
      "source": [
        "**Q8.What is the purpose of the with statement when handling files in Python?**\n",
        "\n",
        "The `with` statement is used for **automatic resource management**, ensuring that files are properly opened and closed. It simplifies file handling by **eliminating the need for explicit `close()` calls**, reducing the risk of resource leaks.\n",
        "\n",
        "---\n",
        "\n",
        "**Key Benefits of `with`**\n",
        "1. **Automatic File Closure** – The file is closed automatically after exiting the block.\n",
        "2. **Cleaner Code** – No need for `file.close()`, making the code more readable.\n",
        "3. **Exception Handling** – If an error occurs, Python still ensures that the file is closed.\n",
        "\n",
        "---\n",
        "\n",
        "**Example: Using `with` to Read a File**\n",
        "```python\n",
        "with open(\"example.txt\", \"r\") as file:\n",
        "    content = file.read()\n",
        "    print(content)  # File is automatically closed after this block\n",
        "```\n",
        "- Here, `file.close()` is **not needed**; Python handles it.\n",
        "\n",
        "---\n",
        "\n",
        "**Example: Writing to a File**\n",
        "```python\n",
        "with open(\"output.txt\", \"w\") as file:\n",
        "    file.write(\"Hello, world!\")\n",
        "# File is closed automatically\n",
        "```\n",
        "\n",
        "---\n",
        "\n",
        "**Equivalent Without `with` (Less Safe)**\n",
        "```python\n",
        "file = open(\"example.txt\", \"r\")\n",
        "try:\n",
        "    content = file.read()\n",
        "finally:\n",
        "    file.close()  # Must be explicitly called to avoid leaks\n",
        "```\n",
        "- If an exception occurs, the file **may not close properly** unless handled in `finally`.\n"
      ],
      "metadata": {
        "id": "zlOhqITV5Mhw"
      }
    },
    {
      "cell_type": "markdown",
      "source": [
        "**Q9.What is the difference between multithreading and multiprocessing?**  \n",
        "\n",
        "Both **multithreading** and **multiprocessing** are used for parallel execution, but they work differently based on how they utilize system resources.\n",
        "\n",
        "---\n",
        "**1. Multithreading** (Concurrency)  \n",
        "- Uses **multiple threads** within the same process.  \n",
        "- Threads share the same memory space.  \n",
        "- Best for **I/O-bound tasks** (e.g., file handling, network requests).  \n",
        "- Limited by the **Global Interpreter Lock (GIL)** in Python, so it doesn't fully utilize multiple CPU cores.  \n",
        "\n",
        "**Example: Using `threading` Module**  \n",
        "```python\n",
        "import threading\n",
        "\n",
        "def print_numbers():\n",
        "    for i in range(5):\n",
        "        print(i)\n",
        "\n",
        "t1 = threading.Thread(target=print_numbers)\n",
        "t1.start()\n",
        "t1.join()\n",
        "```\n",
        "- Suitable for **tasks waiting on external resources** (disk, network).\n",
        "\n",
        "---\n",
        "\n",
        "**2. Multiprocessing** (True Parallelism)  \n",
        "- Uses **multiple processes**, each with its own memory space.  \n",
        "- Ideal for **CPU-bound tasks** (e.g., heavy computations, data processing).  \n",
        "- Bypasses the **GIL**, utilizing multiple CPU cores effectively.  \n",
        "\n",
        "**Example: Using `multiprocessing` Module**  \n",
        "```python\n",
        "import multiprocessing\n",
        "\n",
        "def print_numbers():\n",
        "    for i in range(5):\n",
        "        print(i)\n",
        "\n",
        "p1 = multiprocessing.Process(target=print_numbers)\n",
        "p1.start()\n",
        "p1.join()\n",
        "```\n",
        "- Suitable for **CPU-intensive tasks** like image processing or mathematical calculations.\n"
      ],
      "metadata": {
        "id": "cyvfMCHI5MfJ"
      }
    },
    {
      "cell_type": "markdown",
      "source": [
        "**Q10.What are the advantages of using logging in a program?**\n",
        "\n",
        "Logging is an essential feature for tracking and debugging a program’s execution. It provides better insights into errors and system behavior compared to using `print()` statements.\n",
        "\n",
        "---\n",
        "\n",
        "**1. Easier Debugging and Troubleshooting**  \n",
        "- Helps identify and fix issues by recording errors and warnings.  \n",
        "- Provides detailed logs that assist in root cause analysis.  \n",
        "\n",
        "**Example:**  \n",
        "```python\n",
        "import logging\n",
        "logging.basicConfig(level=logging.DEBUG)\n",
        "logging.debug(\"Debugging information\")\n",
        "```\n",
        "\n",
        "---\n",
        "\n",
        "**2. Persistent Record-Keeping**  \n",
        "- Logs can be saved in files (`.log`), databases, or external systems.  \n",
        "- Useful for long-term monitoring and audits.  \n",
        "\n",
        "```python\n",
        "logging.basicConfig(filename=\"app.log\", level=logging.INFO)\n",
        "logging.info(\"Application started successfully\")\n",
        "```\n",
        "\n",
        "---\n",
        "\n",
        "**3. Different Log Levels for Better Control**  \n",
        "- Allows filtering logs based on severity:  \n",
        "  - `DEBUG`: Detailed internal information.  \n",
        "  - `INFO`: General execution details.  \n",
        "  - `WARNING`: Indicates potential issues.  \n",
        "  - `ERROR`: Reports errors that need attention.  \n",
        "  - `CRITICAL`: Logs severe errors causing program failure.  \n",
        "\n",
        "```python\n",
        "logging.warning(\"This is a warning message\")\n",
        "logging.error(\"Something went wrong!\")\n",
        "```\n",
        "\n",
        "---\n",
        "\n",
        "**4. Avoids Clutter in Code**  \n",
        "- Unlike `print()`, logging provides structured output and can be disabled in production.  \n",
        "- Logs can be formatted for better readability.  \n",
        "\n",
        "```python\n",
        "logging.basicConfig(format=\"%(asctime)s - %(levelname)s - %(message)s\", level=logging.INFO)\n",
        "logging.info(\"System is running smoothly\")\n",
        "```\n",
        "\n",
        "---\n",
        "\n",
        "**5. Supports Multi-Threading and Multi-Processing**  \n",
        "- Logging is thread-safe and helps track execution across multiple threads or processes.  \n",
        "\n",
        "```python\n",
        "import threading\n",
        "\n",
        "def task():\n",
        "    logging.info(\"Thread started\")\n",
        "\n",
        "t = threading.Thread(target=task)\n",
        "t.start()\n",
        "```\n",
        "\n",
        "---\n",
        "\n",
        "**6. Helps in Application Monitoring**  \n",
        "- Can be used for real-time monitoring and performance analysis.  \n",
        "- Logs can be analyzed using tools like **ELK Stack**, **Splunk**, or **Graylog**.  \n",
        "\n",
        "---\n",
        "\n",
        "**7. Flexible Output Handling**  \n",
        "- Can log to **console, files, databases, or remote servers**.  \n",
        "- Supports **rotating log files** to prevent excessive file size.  \n",
        "\n",
        "---"
      ],
      "metadata": {
        "id": "V9UK-Rn-5McN"
      }
    },
    {
      "cell_type": "markdown",
      "source": [
        "**Q11.What is memory management in Python?**\n",
        "\n",
        "Memory management ensures **efficient resource use, prevents memory leaks, and optimizes performance**. Python automates this with **garbage collection, dynamic memory allocation, and memory pools**.\n",
        "\n",
        "**Key Benefits**  \n",
        "- **Prevents Memory Leaks**: Releases unused objects automatically.  \n",
        "- **Optimizes Performance**: Avoids excessive memory consumption.  \n",
        "- **Handles Large Data Efficiently**: Prevents crashes in data-heavy applications.  \n",
        "\n",
        "**How Python Manages Memory**  \n",
        "- **Garbage Collection**: Removes unused objects using **reference counting** and **cyclic GC**.  \n",
        "- **Dynamic Memory Allocation**: Uses a private heap for object storage.  \n",
        "- **Memory Pools (PyMalloc)**: Optimizes small object allocation.  \n",
        "\n",
        "**Best Practices**  \n",
        "- Use `del` to remove objects when no longer needed.  \n",
        "- Prefer **generators** for large data processing.  \n",
        "- Avoid unnecessary global variables.  \n",
        "- Use `gc.collect()` when manual cleanup is required.  "
      ],
      "metadata": {
        "id": "7DDXVVEN5MZU"
      }
    },
    {
      "cell_type": "markdown",
      "source": [
        "**Q12. What are the basic steps involved in exception handling in Python?**\n",
        "\n",
        "**Basic Steps in Exception Handling in Python**  \n",
        "\n",
        "1. **Identify Risky Code**  \n",
        "   - Find code that may cause errors (e.g., division by zero, file not found).  \n",
        "\n",
        "2. **Use `try` Block**  \n",
        "   - Place the risky code inside a `try` block to catch potential exceptions.  \n",
        "\n",
        "3. **Catch Exceptions with `except`**  \n",
        "   - Define an `except` block to handle specific or general exceptions.  \n",
        "\n",
        "4. **Use `else` (Optional)**  \n",
        "   - Runs if no exception occurs inside `try`.  \n",
        "\n",
        "5. **Use `finally` (Optional)**  \n",
        "   - Executes cleanup code (e.g., closing files) regardless of errors.  \n",
        "\n",
        "**Example**  \n",
        "```python\n",
        "try:\n",
        "    num = int(input(\"Enter a number: \"))\n",
        "    result = 10 / num\n",
        "except ZeroDivisionError:\n",
        "    print(\"Cannot divide by zero\")\n",
        "except ValueError:\n",
        "    print(\"Invalid input\")\n",
        "else:\n",
        "    print(\"Result:\", result)\n",
        "finally:\n",
        "    print(\"Execution completed\")\n",
        "```\n"
      ],
      "metadata": {
        "id": "UVDKNNO65MWM"
      }
    },
    {
      "cell_type": "markdown",
      "source": [
        "**Q13. Why is memory management important in Python?**\n",
        "\n",
        "Memory management ensures **efficient resource utilization**, **prevents memory leaks**, and **improves program performance**. Python automates this process, but understanding it helps in writing optimized code.  \n",
        "\n",
        "**Key Reasons**  \n",
        "- **Prevents Memory Leaks**: Automatically frees unused objects.  \n",
        "- **Optimizes Performance**: Reduces memory consumption and execution time.  \n",
        "- **Manages Large Data Efficiently**: Essential for handling big datasets without excessive memory use.  \n",
        "\n",
        "**How Python Manages Memory**  \n",
        "- **Garbage Collection**: Removes unused objects using **reference counting** and **cyclic garbage collection**.  \n",
        "- **Dynamic Memory Allocation**: Allocates memory as needed and reclaims it when no longer used.  \n",
        "- **Memory Pools (PyMalloc)**: Optimizes memory usage for small objects.  \n",
        "\n",
        "**Best Practices**  \n",
        "- Use `del` to remove objects when no longer needed.  \n",
        "- Prefer **generators** over lists for large data processing.  \n",
        "- Avoid unnecessary global variables.  \n",
        "- Use `gc.collect()` for manual garbage collection if needed.  \n",
        "\n",
        "Efficient memory management helps Python programs run smoothly without excessive resource consumption."
      ],
      "metadata": {
        "id": "PaqQG08e5MTs"
      }
    },
    {
      "cell_type": "markdown",
      "source": [
        "**Q14. What is the role of try and except in exception handling?**\n",
        "\n",
        "In Python, `try` and `except` are used for **handling runtime errors** and preventing program crashes.\n",
        "\n",
        "**Purpose**  \n",
        "- **`try` Block**: Contains the code that may raise an exception.  \n",
        "- **`except` Block**: Catches and handles the exception if it occurs.  \n",
        "\n",
        "**How It Works**  \n",
        "1. Python executes the code inside `try`.  \n",
        "2. If an error occurs, execution jumps to `except`.  \n",
        "3. The program continues running instead of stopping.  \n",
        "\n",
        "**Example**  \n",
        "```python\n",
        "try:\n",
        "    x = 10 / 0  # Raises ZeroDivisionError\n",
        "except ZeroDivisionError:\n",
        "    print(\"Cannot divide by zero\")\n",
        "```\n",
        "\n",
        "\n"
      ],
      "metadata": {
        "id": "NKV4s10X5MQ_"
      }
    },
    {
      "cell_type": "markdown",
      "source": [
        "**Q15.How does Python's garbage collection system work?**\n",
        "\n",
        "**How Python's Garbage Collection System Works**  \n",
        "\n",
        "Python's garbage collection (GC) system **automatically manages memory** by reclaiming unused objects, preventing memory leaks.\n",
        "\n",
        "**Key Mechanisms**  \n",
        "\n",
        "1. **Reference Counting**  \n",
        "   - Every object has a reference count (number of variables pointing to it).  \n",
        "   - When the count reaches **zero**, the object is deleted.  \n",
        "\n",
        "   ```python\n",
        "   import sys\n",
        "   x = [1, 2, 3]\n",
        "   print(sys.getrefcount(x))  # Shows reference count\n",
        "   del x  # Removes reference, allowing GC to clean up\n",
        "   ```\n",
        "\n",
        "2. **Cyclic Garbage Collection**  \n",
        "   - Detects and removes **circular references** (objects referencing each other).  \n",
        "   - Uses **three generations** (0, 1, 2) to track objects based on their lifespan.  \n",
        "\n",
        "   ```python\n",
        "   import gc\n",
        "   gc.collect()  # Manually triggers garbage collection\n",
        "   ```\n",
        "\n",
        " **How It Works Internally**  \n",
        "- **New objects** start in Generation 0.  \n",
        "- If they survive multiple GC cycles, they move to **older generations** (1 and 2).  \n",
        "- Older generations are collected **less frequently** to optimize performance.  \n",
        "\n",
        "**Best Practices**  \n",
        "- Avoid unnecessary object creation.  \n",
        "- Use `del` to remove references manually.  \n",
        "- Enable or disable GC using `gc.enable()` / `gc.disable()` if needed.  \n",
        "\n",
        "Python’s GC **ensures efficient memory management** while minimizing performance overhead."
      ],
      "metadata": {
        "id": "6Tm5-DuE5MON"
      }
    },
    {
      "cell_type": "markdown",
      "source": [
        "**Q16.What is the purpose of the else block in exception handling?**\n",
        "\n",
        "\n",
        "In Python, the `else` block in exception handling is used to **execute code only if no exception occurs** inside the `try` block.\n",
        "\n",
        "**Why Use `else`?**  \n",
        "- Separates **error-prone code** (`try`) from **normal execution** (`else`).  \n",
        "- Improves **readability** by clearly distinguishing successful execution.  \n",
        "- Prevents accidental execution of code inside `except`.  \n",
        "\n",
        "**How It Works**  \n",
        "1. **`try`**: Runs code that may raise an exception.  \n",
        "2. **`except`**: Handles exceptions if they occur.  \n",
        "3. **`else`**: Executes only if **no exception occurs** in `try`.  \n",
        "4. **`finally` (optional)**: Runs regardless of exceptions.  \n",
        "\n",
        "**Example**  \n",
        "```python\n",
        "try:\n",
        "    num = int(input(\"Enter a number: \"))\n",
        "    result = 10 / num\n",
        "except ZeroDivisionError:\n",
        "    print(\"Cannot divide by zero\")\n",
        "except ValueError:\n",
        "    print(\"Invalid input\")\n",
        "else:\n",
        "    print(\"Result:\", result)  # Runs only if no exception occurs\n",
        "finally:\n",
        "    print(\"Execution completed\")\n",
        "```\n"
      ],
      "metadata": {
        "id": "be4QLkBY5MLY"
      }
    },
    {
      "cell_type": "markdown",
      "source": [
        "**Q17.What are the common logging levels in Python?**\n",
        "\n",
        "**Common Logging Levels in Python**  \n",
        "\n",
        "Python's `logging` module provides different levels to categorize log messages based on severity.\n",
        "\n",
        "**Logging Levels (Lowest to Highest Severity)**  \n",
        "\n",
        "| Level Name  | Numeric Value | Purpose |\n",
        "|------------|--------------|---------|\n",
        "| **DEBUG**  | 10           | Detailed information for debugging. |\n",
        "| **INFO**   | 20           | General execution details. |\n",
        "| **WARNING** | 30          | Indicates potential issues. |\n",
        "| **ERROR**  | 40           | Reports an error that affects execution. |\n",
        "| **CRITICAL** | 50         | Logs serious errors that may cause program failure. |\n",
        "\n",
        "**Example Usage**  \n",
        "```python\n",
        "import logging\n",
        "\n",
        "logging.basicConfig(level=logging.DEBUG)\n",
        "\n",
        "logging.debug(\"Debugging information\")\n",
        "logging.info(\"Informational message\")\n",
        "logging.warning(\"Warning: Potential issue\")\n",
        "logging.error(\"Error occurred\")\n",
        "logging.critical(\"Critical failure\")\n",
        "```"
      ],
      "metadata": {
        "id": "v4toxz635MIh"
      }
    },
    {
      "cell_type": "markdown",
      "source": [
        "**Q18.What is the difference between os.fork() and multiprocessing in Python?**\n",
        "  \n",
        "\n",
        "Both `os.fork()` and the `multiprocessing` module create new processes in Python, but they work differently and are suited for different use cases.\n",
        "\n",
        "---\n",
        "\n",
        "**1. `os.fork()` (Unix Only, Low-Level Process Creation)**  \n",
        "- Creates a **child process** by duplicating the parent process.  \n",
        "- Only works on **Unix-based systems** (Linux, macOS).  \n",
        "- Returns **0** in the child process and the child's **PID** in the parent process.  \n",
        "- Requires manual handling of inter-process communication (IPC).  \n",
        "\n",
        " **Example**  \n",
        "```python\n",
        "import os\n",
        "\n",
        "pid = os.fork()\n",
        "\n",
        "if pid == 0:\n",
        "    print(\"Child process\")\n",
        "else:\n",
        "    print(\"Parent process, child PID:\", pid)\n",
        "```\n",
        "\n",
        "**Use Case**  \n",
        "- Suitable for **low-level process control** when working directly with system resources.\n",
        "\n",
        "---\n",
        "\n",
        "**2. `multiprocessing` Module (Cross-Platform, High-Level Process Management)**  \n",
        "- Works on **both Windows and Unix**.  \n",
        "- Creates a **separate process** with its own memory space.  \n",
        "- Provides built-in support for **IPC, shared memory, and process pools**.  \n",
        "- Not affected by Python’s **Global Interpreter Lock (GIL)**, allowing true parallel execution.  \n",
        "\n",
        "**Example**  \n",
        "```python\n",
        "import multiprocessing\n",
        "\n",
        "def worker():\n",
        "    print(\"Child process\")\n",
        "\n",
        "p = multiprocessing.Process(target=worker)\n",
        "p.start()\n",
        "p.join()\n",
        "```\n"
      ],
      "metadata": {
        "id": "hmZuX9Ur5MCd"
      }
    },
    {
      "cell_type": "markdown",
      "source": [
        "**Q19.What is the importance of closing a file in Python?**\n",
        "\n",
        "\n",
        "Closing a file in Python using `file.close()` is essential for **efficient resource management** and **data integrity**.\n",
        "\n",
        "**Key Reasons to Close a File**  \n",
        "\n",
        "1. **Releases System Resources**  \n",
        "   - Files consume system resources (memory, file descriptors).  \n",
        "   - Not closing a file can lead to resource exhaustion in large applications.\n",
        "\n",
        "2. **Ensures Data is Written Properly**  \n",
        "   - Buffered writes may not be immediately saved to disk.  \n",
        "   - `close()` ensures all pending data is flushed.\n",
        "\n",
        "3. **Prevents File Corruption**  \n",
        "   - Keeping a file open too long increases the risk of corruption, especially in **write mode**.\n",
        "\n",
        "4. **Avoids Unexpected Errors**  \n",
        "   - OS limits the number of open files.  \n",
        "   - Not closing files can lead to **\"Too many open files\"** errors.\n",
        "\n",
        "**Best Practices**  \n",
        "\n",
        "**Use `with` Statement (Auto-closing)**  \n",
        "```python\n",
        "with open(\"example.txt\", \"r\") as file:\n",
        "    data = file.read()  # No need to call close()\n",
        "```\n",
        "\n",
        "**Manually Close if Needed**  \n",
        "```python\n",
        "file = open(\"example.txt\", \"r\")\n",
        "data = file.read()\n",
        "file.close()  # Explicitly close the file\n",
        "```\n",
        "\n"
      ],
      "metadata": {
        "id": "psRe2MSr5L-0"
      }
    },
    {
      "cell_type": "markdown",
      "source": [
        "**Q20.What is the difference between file.read() and file.readline() in Python?**\n",
        "\n",
        "Both `file.read()` and `file.readline()` are used to read data from a file, but they behave differently.\n",
        "\n",
        " **1. `file.read(size)` – Reads the Entire File or a Specified Number of Bytes**  \n",
        "- Reads the **entire file** if no argument is given.  \n",
        "- If a `size` is specified, it reads **only that many bytes**.  \n",
        "\n",
        "**Example**  \n",
        "```python\n",
        "with open(\"example.txt\", \"r\") as file:\n",
        "    content = file.read()  # Reads the entire file\n",
        "    print(content)\n",
        "```\n",
        "\n",
        "**Use Case**  \n",
        "- When reading **small files** into memory.  \n",
        "- When working with binary data (e.g., images, PDFs).\n",
        "\n",
        "---\n",
        "\n",
        "**2. `file.readline()` – Reads One Line at a Time**  \n",
        "- Reads a **single line** from the file.  \n",
        "- Automatically moves to the next line on the next call.  \n",
        "\n",
        "#### **Example**  \n",
        "```python\n",
        "with open(\"example.txt\", \"r\") as file:\n",
        "    line1 = file.readline()  # Reads first line\n",
        "    line2 = file.readline()  # Reads second line\n",
        "    print(line1, line2)\n",
        "```\n",
        "\n"
      ],
      "metadata": {
        "id": "PFg_2mf85pam"
      }
    },
    {
      "cell_type": "markdown",
      "source": [
        "**Q22. What is the os module in Python used for in file handling?**\n",
        "\n",
        "### **`os` Module in Python for File Handling**  \n",
        "\n",
        "The `os` module provides functions for **interacting with the operating system**, including **file and directory operations**.\n",
        "\n",
        "### **Key File Handling Operations with `os`**  \n",
        "\n",
        "1. **Check if a File Exists**  \n",
        "   ```python\n",
        "   import os\n",
        "   print(os.path.exists(\"example.txt\"))  # True if file exists\n",
        "   ```\n",
        "\n",
        "2. **Create a New File**  \n",
        "   ```python\n",
        "   with open(\"new_file.txt\", \"w\") as file:\n",
        "       file.write(\"Hello, World!\")\n",
        "   ```\n",
        "\n",
        "3. **Rename a File**  \n",
        "   ```python\n",
        "   os.rename(\"old_name.txt\", \"new_name.txt\")\n",
        "   ```\n",
        "\n",
        "4. **Delete a File**  \n",
        "   ```python\n",
        "   os.remove(\"example.txt\")\n",
        "   ```\n",
        "\n",
        "5. **Get File Size**  \n",
        "   ```python\n",
        "   size = os.path.getsize(\"example.txt\")\n",
        "   print(f\"File size: {size} bytes\")\n",
        "   ```\n",
        "\n",
        "6. **List Files in a Directory**  \n",
        "   ```python\n",
        "   print(os.listdir(\".\"))  # Lists all files in the current directory\n",
        "   ```\n",
        "\n",
        "7. **Create and Remove Directories**  \n",
        "   ```python\n",
        "   os.mkdir(\"new_folder\")   # Create directory\n",
        "   os.rmdir(\"new_folder\")   # Remove empty directory\n",
        "   ```\n",
        "\n"
      ],
      "metadata": {
        "id": "cdenf6Ib5p9e"
      }
    },
    {
      "cell_type": "markdown",
      "source": [
        "**Q23. What are the challenges associated with memory management in Python?**\n",
        "\n",
        "\n",
        "Python automates memory management, but it comes with challenges that can impact performance and resource utilization.  \n",
        "\n",
        "**1. Garbage Collection Overhead**  \n",
        "- Python’s **garbage collector (GC)** automatically manages memory, but frequent collection cycles can cause performance slowdowns.  \n",
        "- Objects in **older GC generations** take longer to be collected, leading to memory bloat.  \n",
        "\n",
        "**2. Reference Counting & Circular References**  \n",
        "- Python uses **reference counting** to manage objects. When an object’s reference count drops to zero, it is deleted.  \n",
        "- **Issue**: Circular references (e.g., two objects referencing each other) prevent automatic deallocation.  \n",
        "- **Solution**: Python’s cyclic GC detects and removes such objects, but it adds computational overhead.  \n",
        "\n",
        "**3. High Memory Usage**  \n",
        "- Python **allocates memory dynamically**, which can result in **fragmentation** and excessive memory consumption.  \n",
        "- The **Global Interpreter Lock (GIL)** prevents true parallel execution, leading to inefficient memory use in multi-threading.  \n",
        "\n",
        "**4. Objects Persist Longer Than Needed**  \n",
        "- Large objects stored in **global scope** may not be released until the program exits.  \n",
        "- Developers sometimes **forget to free up memory**, leading to **memory leaks**.  \n",
        "\n",
        "**5. Inefficient Data Structures**  \n",
        "- Lists, dictionaries, and other data structures **consume more memory** than necessary.  \n",
        "- **Solution**: Use memory-efficient alternatives like **generators, `array.array`, or NumPy arrays**.  \n",
        "\n",
        "**6. Manual Garbage Collection May Be Needed**  \n",
        "- The automatic garbage collector doesn’t always free memory immediately.  \n",
        "- **Solution**: `gc.collect()` can be used to manually trigger garbage collection when needed.  \n",
        "\n",
        "**Best Practices to Overcome These Challenges**  \n",
        "- Use **`del`** to remove unused variables.  \n",
        "- Prefer **generators** over lists for large data processing.  \n",
        "- Use **weak references (`weakref` module)** to avoid circular references.  \n",
        "- Avoid excessive global variables and large data structures.  \n",
        "- Profile memory usage with **`memory_profiler`** and optimize where needed.  \n"
      ],
      "metadata": {
        "id": "rdqxPeLF5p6k"
      }
    },
    {
      "cell_type": "markdown",
      "source": [
        "**Q24.  How do you raise an exception manually in Python?**\n",
        "\n",
        "\n",
        "In Python, you can manually raise an exception using the `raise` keyword.\n",
        "\n",
        " **Syntax**  \n",
        "```python\n",
        "raise ExceptionType(\"Custom error message\")\n",
        "```\n",
        "\n",
        "**Example: Raising a Custom Exception**  \n",
        "```python\n",
        "def divide(a, b):\n",
        "    if b == 0:\n",
        "        raise ZeroDivisionError(\"Division by zero is not allowed\")\n",
        "    return a / b\n",
        "\n",
        "try:\n",
        "    result = divide(10, 0)\n",
        "except ZeroDivisionError as e:\n",
        "    print(\"Error:\", e)\n",
        "```\n",
        "\n",
        "**Raising a Generic Exception**  \n",
        "```python\n",
        "raise ValueError(\"Invalid input\")\n",
        "```\n",
        "\n",
        "**Using `raise` Without Arguments**  \n",
        "Inside an `except` block, `raise` can be used without arguments to re-raise the current exception.  \n",
        "```python\n",
        "try:\n",
        "    x = int(\"abc\")\n",
        "except ValueError:\n",
        "    print(\"Handling exception...\")\n",
        "    raise  # Re-raises the ValueError\n",
        "```\n",
        "\n",
        "**Custom Exceptions**  \n",
        "You can define and raise custom exceptions by subclassing `Exception`.  \n",
        "```python\n",
        "class CustomError(Exception):\n",
        "    pass\n",
        "\n",
        "raise CustomError(\"This is a custom exception\")\n",
        "```"
      ],
      "metadata": {
        "id": "U5O-iLZP5pmz"
      }
    },
    {
      "cell_type": "markdown",
      "source": [
        "**Q25.Why is it important to use multithreading in certain applications?**\n",
        "\n",
        "**Importance of Multithreading in Certain Applications**  \n",
        "\n",
        "Multithreading enables a program to run multiple tasks concurrently, improving performance and responsiveness in specific scenarios.  \n",
        "\n",
        "**Key Benefits of Multithreading**  \n",
        "\n",
        "1. **Enhances Responsiveness**  \n",
        "   - Prevents applications (especially GUIs) from freezing during background tasks.  \n",
        "   - Example: A text editor that auto-saves while allowing the user to type.  \n",
        "\n",
        "2. **Optimizes I/O-Bound Tasks**  \n",
        "   - Threads are useful when tasks involve **waiting** (e.g., network requests, file operations, database queries).  \n",
        "   - Example: A web scraper that downloads multiple pages simultaneously.  \n",
        "\n",
        "3. **Efficient Task Concurrency**  \n",
        "   - Allows multiple tasks to run **seemingly in parallel**, improving performance for real-time applications.  \n",
        "   - Example: A server handling multiple client requests.  \n",
        "\n",
        "4. **Reduces Idle Time in I/O Operations**  \n",
        "   - Since Python's **Global Interpreter Lock (GIL)** prevents true parallel execution, multithreading is ideal for **I/O-bound tasks**, where threads spend time waiting rather than actively executing code.  \n",
        "\n",
        "5. **Background Processing**  \n",
        "   - Useful for running **background tasks** (e.g., logging, periodic updates) without interrupting the main program.  \n",
        "\n",
        "**When Not to Use Multithreading**  \n",
        "- **Not suitable for CPU-bound tasks** (e.g., mathematical computations) due to Python’s **GIL**. Use **multiprocessing** instead.  \n",
        "\n",
        "**Example: Using Threads for I/O Tasks**  \n",
        "```python\n",
        "import threading\n",
        "import time\n",
        "\n",
        "def task(name):\n",
        "    print(f\"Starting {name}\")\n",
        "    time.sleep(2)  # Simulating an I/O operation\n",
        "    print(f\"Finished {name}\")\n",
        "\n",
        "t1 = threading.Thread(target=task, args=(\"Thread 1\",))\n",
        "t2 = threading.Thread(target=task, args=(\"Thread 2\",))\n",
        "\n",
        "t1.start()\n",
        "t2.start()\n",
        "\n",
        "t1.join()\n",
        "t2.join()\n",
        "```\n"
      ],
      "metadata": {
        "id": "yM-2cNbl5pjJ"
      }
    },
    {
      "cell_type": "code",
      "source": [
        "#Q1.How can you open a file for writing in Python and write a string to it?\n",
        "\n",
        "file = open(\"file.txt\", \"w\")\n",
        "file.write(\"Hi, I am Deepanshu Aggarwal\\n\")\n",
        "file.write(\"I am studying for Data Analytics\\n\")\n",
        "file.write(\"This is my 5th Assignment\\n\")\n",
        "file.write(\"It's to have a word with you\\n\")\n",
        "file.close()"
      ],
      "metadata": {
        "id": "SHtxrTB9jP1U"
      },
      "execution_count": 3,
      "outputs": []
    },
    {
      "cell_type": "code",
      "source": [
        "#Q2.Write a Python program to read the contents of a file and print each line.\n",
        "\n",
        "file = open(\"file.txt\", \"r\")\n",
        "content = file.read()\n",
        "print(content)\n",
        "file.close()\n"
      ],
      "metadata": {
        "id": "G2qcYL0o6Ek5",
        "colab": {
          "base_uri": "https://localhost:8080/"
        },
        "outputId": "d88e0011-b21f-4454-8f9a-0f5c34480c64"
      },
      "execution_count": 4,
      "outputs": [
        {
          "output_type": "stream",
          "name": "stdout",
          "text": [
            "Hello this is my first line in the text filer Data Analytics\n",
            "This is my 5th Assignment\n",
            "It's to have a word with you\n",
            "\n"
          ]
        }
      ]
    },
    {
      "cell_type": "code",
      "source": [
        "#Q3. How would you handle a case where the file doesn't exist while trying to open it for reading.\n",
        "\n",
        "try:\n",
        "    with open(\"file.txt.in\", \"r\") as file:\n",
        "        for line in file:\n",
        "            print(line.strip())\n",
        "except FileNotFoundError:\n",
        "    print(\"Error: The file does not exist.\")\n"
      ],
      "metadata": {
        "id": "FDQXrYPP6EfU",
        "colab": {
          "base_uri": "https://localhost:8080/"
        },
        "outputId": "afd12954-787c-45ec-ab7d-b392b9f37063"
      },
      "execution_count": 8,
      "outputs": [
        {
          "output_type": "stream",
          "name": "stdout",
          "text": [
            "Error: The file does not exist.\n"
          ]
        }
      ]
    },
    {
      "cell_type": "code",
      "source": [
        "#Q4. Write a Python script that reads from one file and writes its content to another file.\n",
        "\n",
        "with open(\"file.txt\", \"r\") as source, open(\"destination.txt\", \"w\") as destination:\n",
        "    for line in source:\n",
        "        destination.write(line)  # Write each line to the destination file\n",
        "\n",
        "print(\"File copied successfully.\")"
      ],
      "metadata": {
        "id": "3ceEM-Ax6EaT",
        "colab": {
          "base_uri": "https://localhost:8080/"
        },
        "outputId": "05678eae-6ae4-4eb6-dc68-5e74936d0ea9"
      },
      "execution_count": 10,
      "outputs": [
        {
          "output_type": "stream",
          "name": "stdout",
          "text": [
            "File copied successfully.\n"
          ]
        }
      ]
    },
    {
      "cell_type": "code",
      "source": [
        "#Q5. How would you catch and handle division by zero error in Python\n",
        "\n",
        "try:\n",
        "    num = int(input(\"Enter a number: \"))\n",
        "    result = 10 / num  # Potential division by zero\n",
        "    print(\"Result:\", result)\n",
        "except ZeroDivisionError:\n",
        "    print(\"Error: Division by zero is not allowed.\")\n"
      ],
      "metadata": {
        "id": "FNPsawPU6EVi",
        "colab": {
          "base_uri": "https://localhost:8080/"
        },
        "outputId": "e49e43ae-26c5-41c8-dfea-701dccdf99fa"
      },
      "execution_count": 11,
      "outputs": [
        {
          "output_type": "stream",
          "name": "stdout",
          "text": [
            "Enter a number: 0\n",
            "Error: Division by zero is not allowed.\n"
          ]
        }
      ]
    },
    {
      "cell_type": "code",
      "source": [
        "#Q6. Write a Python program that logs an error message to a log file when a division by zero exception occurs.\n",
        "\n",
        "import logging\n",
        "\n",
        "# Configure logging to write errors to a file\n",
        "logging.basicConfig(filename=\"error.log\", level=logging.ERROR, format=\"%(asctime)s - %(levelname)s - %(message)s\")\n",
        "\n",
        "try:\n",
        "    num = int(input(\"Enter a number: \"))\n",
        "    result = 10 / num  # Possible division by zero\n",
        "    print(\"Result:\", result)\n",
        "except ZeroDivisionError:\n",
        "    logging.error(\"Division by zero error occurred.\")\n",
        "    print(\"Error: Division by zero is not allowed. Check error.log for details.\")\n",
        "except ValueError:\n",
        "    logging.error(\"Invalid input. Non-integer value entered.\")\n",
        "    print(\"Error: Please enter a valid integer.\")\n"
      ],
      "metadata": {
        "id": "f6Okezh06EQO",
        "colab": {
          "base_uri": "https://localhost:8080/"
        },
        "outputId": "83d180c1-4d2c-4ba5-93c6-8b131ce89985"
      },
      "execution_count": 14,
      "outputs": [
        {
          "name": "stdout",
          "output_type": "stream",
          "text": [
            "Enter a number: 0\n"
          ]
        },
        {
          "output_type": "stream",
          "name": "stderr",
          "text": [
            "ERROR:root:Division by zero error occurred.\n"
          ]
        },
        {
          "output_type": "stream",
          "name": "stdout",
          "text": [
            "Error: Division by zero is not allowed. Check error.log for details.\n"
          ]
        }
      ]
    },
    {
      "cell_type": "code",
      "source": [
        "#Q7. How do you log information at different levels (INFO, ERROR, WARNING) in Python using the logging module?\n",
        "\n",
        "import logging\n",
        "\n",
        "# Configure logging\n",
        "logging.basicConfig(\n",
        "    filename=\"app.log\",  # Log file\n",
        "    level=logging.DEBUG,  # Capture all levels (DEBUG and above)\n",
        "    format=\"%(asctime)s - %(levelname)s - %(message)s\",  # Log format\n",
        "    filemode=\"w\",  # Overwrite log file on each run\n",
        ")\n",
        "\n",
        "# Logging messages at different levels\n",
        "logging.debug(\"This is a debug message.\")  # Useful for troubleshooting\n",
        "logging.info(\"This is an info message.\")  # General program info\n",
        "logging.warning(\"This is a warning message.\")  # Potential issue\n",
        "logging.error(\"This is an error message.\")  # An error has occurred\n",
        "logging.critical(\"This is a critical message.\")  # Severe failure\n",
        "\n",
        "print(\"Logs have been written to app.log.\")\n",
        "\n"
      ],
      "metadata": {
        "id": "qRMf5ci06EKH",
        "colab": {
          "base_uri": "https://localhost:8080/"
        },
        "outputId": "cc5072fa-fc5d-487d-fb59-faa2d8e66c02"
      },
      "execution_count": 16,
      "outputs": [
        {
          "output_type": "stream",
          "name": "stderr",
          "text": [
            "WARNING:root:This is a warning message.\n",
            "ERROR:root:This is an error message.\n",
            "CRITICAL:root:This is a critical message.\n"
          ]
        },
        {
          "output_type": "stream",
          "name": "stdout",
          "text": [
            "Logs have been written to app.log.\n"
          ]
        }
      ]
    },
    {
      "cell_type": "code",
      "source": [
        "#Q8. Write a program to handle a file opening error using exception handling.\n",
        "\n",
        "try:\n",
        "    with open(\"non_existent_file.txt\", \"r\") as file:\n",
        "        content = file.read()\n",
        "        print(content)\n",
        "except FileNotFoundError:\n",
        "    print(\"Error: The file does not exist.\")\n",
        "except PermissionError:\n",
        "    print(\"Error: Permission denied to access the file.\")\n",
        "except Exception as e:\n",
        "    print(f\"An unexpected error occurred: {e}\")\n"
      ],
      "metadata": {
        "id": "LvnScGyy6EFV",
        "colab": {
          "base_uri": "https://localhost:8080/"
        },
        "outputId": "b176b0b4-5530-4c5f-e85c-990e4368dfb8"
      },
      "execution_count": 17,
      "outputs": [
        {
          "output_type": "stream",
          "name": "stdout",
          "text": [
            "Error: The file does not exist.\n"
          ]
        }
      ]
    },
    {
      "cell_type": "code",
      "source": [
        "#Q9. How can you read a file line by line and store its content in a list in Python?\n",
        "with open(\"file.txt\", \"r\") as file:\n",
        "    lines = file.readlines()  # Reads all lines into a list\n",
        "\n",
        "print(lines)  # Each line is a separate element in the list"
      ],
      "metadata": {
        "id": "GcK7dDX86EA5",
        "colab": {
          "base_uri": "https://localhost:8080/"
        },
        "outputId": "04d0f6cc-af79-4b2f-a918-4bec38a19237"
      },
      "execution_count": 19,
      "outputs": [
        {
          "output_type": "stream",
          "name": "stdout",
          "text": [
            "['Hello this is my first line in the text filer Data Analytics\\n', 'This is my 5th Assignment\\n', \"It's to have a word with you\\n\"]\n"
          ]
        }
      ]
    },
    {
      "cell_type": "code",
      "source": [
        "#Q10. How can you append data to an existing file in Python?\n",
        "\n",
        "with open(\"file.txt\", \"a\") as file:\n",
        "    file.write(\"\\n I am glad to introduce my self.\")\n",
        "file.close()\n",
        "\n",
        "file = open(\"file.txt\", \"r\")\n",
        "content = file.read()\n",
        "print(content)\n",
        "file.close()"
      ],
      "metadata": {
        "id": "aOViaKVA6D8X",
        "colab": {
          "base_uri": "https://localhost:8080/"
        },
        "outputId": "4878be45-77aa-459d-dd15-0e8b00492162"
      },
      "execution_count": 29,
      "outputs": [
        {
          "output_type": "stream",
          "name": "stdout",
          "text": [
            "Hello this is my first line in the text filer Data Analytics\n",
            "This is my 5th Assignment\n",
            "It's to have a word with you\n",
            "\n",
            " I am glad to introduce my self.\n",
            " I am glad to introduce my self.\n",
            " I am glad to introduce my self.\n",
            " I am glad to introduce my self.\n",
            " I am glad to introduce my self.\n",
            " I am glad to introduce my self.I am glad to introduce my self.\n",
            " I am glad to introduce my self.\n"
          ]
        }
      ]
    },
    {
      "cell_type": "code",
      "source": [
        "#Q11. Write a Python program that uses a try-except block to handle an error when attempting to access a dictionary key that doesn't exist.\n",
        "\n",
        "# Sample dictionary\n",
        "student_scores = {\"Deepanshu\": 89, \"Akash\": 90, \"Akansha\": 78}\n",
        "\n",
        "try:\n",
        "    name = input(\"Enter the student's name: \")\n",
        "    score = student_scores[name]  # Attempt to access the key\n",
        "    print(f\"{name}'s score is {score}.\")\n",
        "except KeyError:\n",
        "    print(f\"Error: '{name}' not found in the dictionary.\")\n"
      ],
      "metadata": {
        "id": "Pdgbs85_6D36",
        "colab": {
          "base_uri": "https://localhost:8080/"
        },
        "outputId": "644cff97-6e18-450e-919b-73d48249c409"
      },
      "execution_count": 33,
      "outputs": [
        {
          "output_type": "stream",
          "name": "stdout",
          "text": [
            "Enter the student's name: Lakshay\n",
            "Error: 'Lakshay' not found in the dictionary.\n"
          ]
        }
      ]
    },
    {
      "cell_type": "code",
      "source": [
        "#Q12. Write a program that demonstrates using multiple except blocks to handle different types of exceptions.\n",
        "\n",
        "try:\n",
        "    num1 = int(input(\"Enter a number: \"))  # Might raise ValueError\n",
        "    num2 = int(input(\"Enter another number: \"))  # Might raise ValueError\n",
        "    result = num1 / num2  # Might raise ZeroDivisionError\n",
        "    print(f\"Result: {result}\")\n",
        "\n",
        "except ZeroDivisionError:\n",
        "    print(\"Error: Cannot divide by zero.\")\n",
        "\n",
        "except ValueError:\n",
        "    print(\"Error: Invalid input. Please enter a valid integer.\")\n",
        "\n",
        "except Exception as e:\n",
        "    print(f\"An unexpected error occurred: {e}\")\n"
      ],
      "metadata": {
        "id": "-h1inJH06Dzh",
        "colab": {
          "base_uri": "https://localhost:8080/"
        },
        "outputId": "4dec4c2d-1c45-47a2-9dbe-68fa24282db8"
      },
      "execution_count": 34,
      "outputs": [
        {
          "output_type": "stream",
          "name": "stdout",
          "text": [
            "Enter a number: 432\n",
            "Enter another number: 34324\n",
            "Result: 0.012585945693975061\n"
          ]
        }
      ]
    },
    {
      "cell_type": "code",
      "source": [
        "#Q13. How would you check if a file exists before attempting to read it in Python?\n",
        "\n",
        "from pathlib import Path\n",
        "\n",
        "file_path = Path(\"file.txt\")\n",
        "\n",
        "if file_path.is_file():  # Ensures it's a file, not a directory\n",
        "    with file_path.open(\"r\") as file:\n",
        "        content = file.read()\n",
        "        print(content)\n",
        "else:\n",
        "    print(\"Error: The file does not exist.\")\n",
        "\n"
      ],
      "metadata": {
        "id": "7BAnPXjn6Dto",
        "colab": {
          "base_uri": "https://localhost:8080/"
        },
        "outputId": "574c1ce7-9970-446c-f1e3-0a3f4d3e2d69"
      },
      "execution_count": 35,
      "outputs": [
        {
          "output_type": "stream",
          "name": "stdout",
          "text": [
            "Hello this is my first line in the text filer Data Analytics\n",
            "This is my 5th Assignment\n",
            "It's to have a word with you\n",
            "\n",
            " I am glad to introduce my self.\n",
            " I am glad to introduce my self.\n",
            " I am glad to introduce my self.\n",
            " I am glad to introduce my self.\n",
            " I am glad to introduce my self.\n",
            " I am glad to introduce my self.I am glad to introduce my self.\n",
            " I am glad to introduce my self.\n"
          ]
        }
      ]
    },
    {
      "cell_type": "code",
      "source": [
        "#Q14. Write a program that uses the logging module to log both informational and error messages.\n",
        "import logging\n",
        "\n",
        "# Configure logging\n",
        "logging.basicConfig(\n",
        "    filename=\"app.log\",  # Log file\n",
        "    level=logging.INFO,  # Log INFO level and above\n",
        "    format=\"%(asctime)s - %(levelname)s - %(message)s\",\n",
        ")\n",
        "\n",
        "def divide_numbers(a, b):\n",
        "    try:\n",
        "        logging.info(f\"Attempting to divide {a} by {b}\")\n",
        "        result = a / b\n",
        "        logging.info(f\"Division successful: {a} / {b} = {result}\")\n",
        "        return result\n",
        "    except ZeroDivisionError:\n",
        "        logging.error(\"Error: Division by zero attempted.\")\n",
        "        return \"Error: Cannot divide by zero.\"\n",
        "\n",
        "# Example usage\n",
        "divide_numbers(10, 2)  # Logs an INFO message\n",
        "divide_numbers(5, 0)   # Logs an ERROR message\n",
        "\n",
        "print(\"Logs have been written to app.log.\")\n",
        "\n"
      ],
      "metadata": {
        "id": "N-o9aihD6Dpk",
        "colab": {
          "base_uri": "https://localhost:8080/"
        },
        "outputId": "cef52366-3488-451c-883c-f0b42b9551bb"
      },
      "execution_count": 36,
      "outputs": [
        {
          "output_type": "stream",
          "name": "stderr",
          "text": [
            "ERROR:root:Error: Division by zero attempted.\n"
          ]
        },
        {
          "output_type": "stream",
          "name": "stdout",
          "text": [
            "Logs have been written to app.log.\n"
          ]
        }
      ]
    },
    {
      "cell_type": "code",
      "source": [
        "#Q15. Write a Python program that prints the content of a file and handles the case when the file is empty.\n",
        "\n",
        "import os\n",
        "\n",
        "def read_file(file_path):\n",
        "    try:\n",
        "        # Check if file exists before opening\n",
        "        if not os.path.exists(file_path):\n",
        "            print(\"Error: The file does not exist.\")\n",
        "            return\n",
        "\n",
        "        with open(file_path, \"r\") as file:\n",
        "            content = file.read()\n",
        "\n",
        "            if not content:  # Check if the file is empty\n",
        "                print(\"The file is empty.\")\n",
        "            else:\n",
        "                print(\"File Content:\\n\", content)\n",
        "\n",
        "    except Exception as e:\n",
        "        print(f\"An error occurred: {e}\")\n",
        "\n",
        "# Example usage\n",
        "file_path = \"file.txt\"  # Change this to your actual file path\n",
        "read_file(file_path)\n"
      ],
      "metadata": {
        "id": "o_wMp-GO6Dlu",
        "colab": {
          "base_uri": "https://localhost:8080/"
        },
        "outputId": "fa95fb24-8613-4508-ec95-0c7e1a07f6d7"
      },
      "execution_count": 38,
      "outputs": [
        {
          "output_type": "stream",
          "name": "stdout",
          "text": [
            "File Content:\n",
            " Hello this is my first line in the text filer Data Analytics\n",
            "This is my 5th Assignment\n",
            "It's to have a word with you\n",
            "\n",
            " I am glad to introduce my self.\n",
            " I am glad to introduce my self.\n",
            " I am glad to introduce my self.\n",
            " I am glad to introduce my self.\n",
            " I am glad to introduce my self.\n",
            " I am glad to introduce my self.I am glad to introduce my self.\n",
            " I am glad to introduce my self.\n"
          ]
        }
      ]
    },
    {
      "cell_type": "code",
      "source": [
        "#Q17. Write a Python program to create and write a list of numbers to a file, one number per line.\n",
        "\n",
        "file = open(\"numbers.txt\", \"w\")\n",
        "file.write(\"1\\n\")\n",
        "file.write(\"2\\n\")\n",
        "file.write(\"3\\n\")\n",
        "file.write(\"4\\n\")\n",
        "file.close()\n",
        "\n",
        "def write_numbers_to_file(file_path, numbers):\n",
        "    try:\n",
        "        with open(file_path, \"w\") as file:  # Open file in write mode\n",
        "            for number in numbers:\n",
        "                file.write(f\"{number}\\n\")  # Write each number on a new line\n",
        "        print(f\"Numbers written to {file_path} successfully.\")\n",
        "    except Exception as e:\n",
        "        print(f\"An error occurred: {e}\")\n",
        "\n",
        "# Example usage\n",
        "numbers = list(range(1, 21))  # List of numbers from 1 to 20\n",
        "file_path = \"numbers.txt\"\n",
        "write_numbers_to_file(file_path, numbers)\n"
      ],
      "metadata": {
        "id": "fCvxBQlo6DeG",
        "colab": {
          "base_uri": "https://localhost:8080/"
        },
        "outputId": "d8c9da56-cad6-4058-daf5-3ad7bac36ee8"
      },
      "execution_count": 45,
      "outputs": [
        {
          "output_type": "stream",
          "name": "stdout",
          "text": [
            "Numbers written to numbers.txt successfully.\n"
          ]
        }
      ]
    },
    {
      "cell_type": "code",
      "source": [
        "#Q18. How would you implement a basic logging setup that logs to a file with rotation after 1MB.\n",
        "\n",
        "import logging\n",
        "from logging.handlers import RotatingFileHandler\n",
        "\n",
        "# Configure logging with rotation\n",
        "log_file = \"app.log\"\n",
        "max_size = 1 * 1024 * 1024  # 1MB\n",
        "backup_count = 3  # Keep last 3 log files\n",
        "\n",
        "logging.basicConfig(\n",
        "    level=logging.INFO,\n",
        "    format=\"%(asctime)s - %(levelname)s - %(message)s\",\n",
        "    handlers=[\n",
        "        RotatingFileHandler(log_file, maxBytes=max_size, backupCount=backup_count)\n",
        "    ],\n",
        ")\n",
        "\n",
        "# Example logging usage\n",
        "for i in range(10000):\n",
        "    logging.info(f\"Log message {i}\")\n"
      ],
      "metadata": {
        "id": "ZJcZ4XS86Dab"
      },
      "execution_count": 49,
      "outputs": []
    },
    {
      "cell_type": "code",
      "source": [
        "#Q19. Write a program that handles both IndexError and KeyError using a try-except block.\n",
        "\n",
        "def access_data():\n",
        "    my_list = [10, 20, 30]\n",
        "    my_dict = {\"a\": 100, \"b\": 200}\n",
        "\n",
        "    try:\n",
        "        # Attempting to access an out-of-range index\n",
        "        print(\"List value:\", my_list[5])  # This will raise IndexError\n",
        "\n",
        "        # Attempting to access a non-existent dictionary key\n",
        "        print(\"Dictionary value:\", my_dict[\"c\"])  # This will raise KeyError\n",
        "\n",
        "    except IndexError:\n",
        "        print(\"Error: List index out of range.\")\n",
        "\n",
        "    except KeyError:\n",
        "        print(\"Error: Dictionary key not found.\")\n",
        "\n",
        "# Run the function\n",
        "access_data()\n"
      ],
      "metadata": {
        "id": "6e4ojAHn6DXy",
        "colab": {
          "base_uri": "https://localhost:8080/"
        },
        "outputId": "2614de2f-81d1-4091-f502-82640039e352"
      },
      "execution_count": 51,
      "outputs": [
        {
          "output_type": "stream",
          "name": "stdout",
          "text": [
            "Error: List index out of range.\n"
          ]
        }
      ]
    },
    {
      "cell_type": "code",
      "source": [
        "#Q20. How would you open a file and read its contents using a context manager in Python.\n",
        "\n",
        "file_path = \"file.txt\"\n",
        "\n",
        "with open(file_path, \"r\") as file:  # Open file in read mode\n",
        "    content = file.read()  # Read entire content\n",
        "    print(content)\n",
        "\n",
        "\n",
        "with open(\"file.txt\", \"r\") as file:\n",
        "    for line in file:  # Read line by line\n",
        "        print(line.strip())  # Remove extra newlines\n"
      ],
      "metadata": {
        "id": "-LoXPUCQ9giJ",
        "colab": {
          "base_uri": "https://localhost:8080/"
        },
        "outputId": "7a84d626-1c7c-459b-edc2-269405672a25"
      },
      "execution_count": 54,
      "outputs": [
        {
          "output_type": "stream",
          "name": "stdout",
          "text": [
            "Hi, I am Deepanshu Aggarwal\n",
            "I am studying for Data Analytics\n",
            "This is my 5th Assignment\n",
            "It's to have a word with you\n",
            "\n",
            "Hi, I am Deepanshu Aggarwal\n",
            "I am studying for Data Analytics\n",
            "This is my 5th Assignment\n",
            "It's to have a word with you\n"
          ]
        }
      ]
    },
    {
      "cell_type": "code",
      "source": [
        "#Q21. Write a Python program that reads a file and prints the number of occurrences of a specific word.\n",
        "\n",
        "def count_word_occurrences(file_path, target_word):\n",
        "    try:\n",
        "        with open(file_path, \"r\") as file:\n",
        "            content = file.read().lower()  # Read and convert to lowercase\n",
        "            words = content.split()  # Split text into words\n",
        "            count = words.count(target_word.lower())  # Count occurrences\n",
        "            print(f\"The word '{target_word}' appears {count} times in the file.\")\n",
        "    except FileNotFoundError:\n",
        "        print(\"Error: The file does not exist.\")\n",
        "    except Exception as e:\n",
        "        print(f\"An error occurred: {e}\")\n",
        "\n",
        "# Example usage\n",
        "file_path = \"file.txt\"  # Replace with your actual file path\n",
        "target_word = \"I\"  # Word to search for\n",
        "count_word_occurrences(file_path, target_word)"
      ],
      "metadata": {
        "id": "XE1sOI-n9hhO",
        "colab": {
          "base_uri": "https://localhost:8080/"
        },
        "outputId": "8a75a7b0-8987-4b6b-bd0f-e8d1ba22420f"
      },
      "execution_count": 59,
      "outputs": [
        {
          "output_type": "stream",
          "name": "stdout",
          "text": [
            "The word 'I' appears 2 times in the file.\n"
          ]
        }
      ]
    },
    {
      "cell_type": "code",
      "source": [
        "#Q22. How can you check if a file is empty before attempting to read its contents.\n",
        "\n",
        "import os\n",
        "\n",
        "file_path = \"file.txt\"\n",
        "\n",
        "if os.path.exists(file_path) and os.path.getsize(file_path) > 0:\n",
        "    with open(file_path, \"r\") as file:\n",
        "        content = file.read()\n",
        "        print(\"File Content:\\n\", content)\n",
        "else:\n",
        "    print(\"The file is empty or does not exist.\")\n",
        "\n"
      ],
      "metadata": {
        "id": "cFVoLyFN9jC4",
        "colab": {
          "base_uri": "https://localhost:8080/"
        },
        "outputId": "fa40a295-90ba-44e6-a77c-74cf8e86d053"
      },
      "execution_count": 61,
      "outputs": [
        {
          "output_type": "stream",
          "name": "stdout",
          "text": [
            "File Content:\n",
            " Hi, I am Deepanshu Aggarwal\n",
            "I am studying for Data Analytics\n",
            "This is my 5th Assignment\n",
            "It's to have a word with you\n",
            "\n"
          ]
        }
      ]
    },
    {
      "cell_type": "code",
      "source": [
        "#Q23. Write a Python program that writes to a log file when an error occurs during file handling.\n",
        "\n",
        "import logging\n",
        "\n",
        "# Configure logging to log errors to a file\n",
        "logging.basicConfig(\n",
        "    filename=\"file_errors.log\",\n",
        "    level=logging.ERROR,\n",
        "    format=\"%(asctime)s - %(levelname)s - %(message)s\",\n",
        ")\n",
        "\n",
        "def read_file(file_path):\n",
        "    try:\n",
        "        with open(file_path, \"r\") as file:\n",
        "            content = file.read()\n",
        "            print(\"File Content:\\n\", content)\n",
        "    except FileNotFoundError:\n",
        "        logging.error(f\"File not found: {file_path}\")\n",
        "        print(\"Error: The file does not exist.\")\n",
        "    except PermissionError:\n",
        "        logging.error(f\"Permission denied: {file_path}\")\n",
        "        print(\"Error: Permission denied.\")\n",
        "    except Exception as e:\n",
        "        logging.error(f\"An unexpected error occurred: {e}\")\n",
        "        print(\"An unexpected error occurred.\")\n",
        "\n",
        "# Example usage\n",
        "file_path = \"nonexistent.txt\"  # Change this to test different scenarios\n",
        "read_file(file_path)\n",
        "\n",
        "print(\"Check 'file_errors.log' for error details.\")\n"
      ],
      "metadata": {
        "id": "zhT043y19ivC",
        "colab": {
          "base_uri": "https://localhost:8080/"
        },
        "outputId": "0baa8867-6e36-43c6-cd61-ce413548e2ee"
      },
      "execution_count": 64,
      "outputs": [
        {
          "output_type": "stream",
          "name": "stderr",
          "text": [
            "ERROR:root:File not found: nonexistent.txt\n"
          ]
        },
        {
          "output_type": "stream",
          "name": "stdout",
          "text": [
            "Error: The file does not exist.\n",
            "Check 'file_errors.log' for error details.\n"
          ]
        }
      ]
    }
  ]
}